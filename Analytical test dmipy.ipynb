{
 "cells": [
  {
   "cell_type": "code",
   "execution_count": 1,
   "metadata": {
    "scrolled": true
   },
   "outputs": [],
   "source": [
    "from dmipy.signal_models import cylinder_models\n",
    "from dmipy.signal_models import capped_cylinder_models\n",
    "from dmipy.core import modeling_framework\n",
    "from dmipy.data import saved_acquisition_schemes\n",
    "import numpy as np\n",
    "from os.path import join\n",
    "from dmipy.core import modeling_framework\n",
    "from dmipy.core.acquisition_scheme import acquisition_scheme_from_bvalues\n",
    "from dmipy.core.acquisition_scheme import acquisition_scheme_from_gradient_strengths\n",
    "from os.path import join\n",
    "import numpy as np\n",
    "from dmipy.core.modeling_framework import MultiCompartmentModel"
   ]
  },
  {
   "cell_type": "code",
   "execution_count": 2,
   "metadata": {},
   "outputs": [
    {
     "name": "stdout",
     "output_type": "stream",
     "text": [
      "Acquisition scheme summary\n",
      "\n",
      "total number of measurements: 9\n",
      "number of b0 measurements: 0\n",
      "number of DWI shells: 7\n",
      "\n",
      "shell_index |# of DWIs |bvalue [s/mm^2] |gradient strength [mT/m] |delta [ms] |Delta[ms] |TE[ms]\n",
      "0           |3         |58              |18                       |10.0       |14.0      |N/A  \n",
      "1           |1         |250             |57                       |10.0       |14.0      |N/A  \n",
      "2           |1         |500             |80                       |10.0       |14.0      |N/A  \n",
      "3           |1         |750             |99                       |10.0       |14.0      |N/A  \n",
      "4           |1         |1000            |114                      |10.0       |14.0      |N/A  \n",
      "5           |1         |1500            |140                      |10.0       |14.0      |N/A  \n",
      "6           |1         |2000            |161                      |10.0       |14.0      |N/A  \n"
     ]
    },
    {
     "name": "stderr",
     "output_type": "stream",
     "text": [
      "C:\\Users\\Mx\\anaconda3\\lib\\site-packages\\dmipy\\core\\acquisition_scheme.py:179: UserWarning: No b0 measurements were detected. Check if the b0_threshold option is high enough, or if there is a mistake in the acquisition design.\n",
      "  warn(msg)\n"
     ]
    }
   ],
   "source": [
    "# we can then load the parameters themselves and convert them to SI units:\n",
    "acquisition_path = modeling_framework.GRADIENT_TABLES_PATH\n",
    "#bvalues = np.loadtxt(join(acquisition_path, 'bvals_hcp_wu_minn.txt'))  # given in s/mm^2\n",
    "bvalues = np.array([25,50,100,250,500,750,1000,1500,2000])\n",
    "bvalues_SI = bvalues * 1e6  # now given in SI units as s/m^2\n",
    "#gradient_directions4= np.loadtxt(join(acquisition_path, 'bvecs_hcp_wu_minn.txt'))  # on the unit sphere\n",
    "gradient_directions = []\n",
    "for i in range(len(bvalues)):\n",
    "    gradient_directions.append(np.array([0.57735027, 0.57735027, 0.57735027]))\n",
    "    \n",
    "gradient_directions = np.array(gradient_directions)\n",
    "# The delta and Delta times we know from the HCP documentation in seconds\n",
    "delta = 0.010  \n",
    "Delta = 0.014 \n",
    "\n",
    "# The acquisition scheme we use in the toolbox is then created as follows:\n",
    "acq_scheme = acquisition_scheme_from_bvalues(bvalues_SI, gradient_directions, delta, Delta)\n",
    "acq_scheme.print_acquisition_info"
   ]
  },
  {
   "cell_type": "code",
   "execution_count": 3,
   "metadata": {},
   "outputs": [
    {
     "name": "stdout",
     "output_type": "stream",
     "text": [
      "We highly recommend installing pathos to take advantage of multicore processing.\n"
     ]
    },
    {
     "data": {
      "text/plain": [
       "array([0.98573647, 0.97167638, 0.94415499, 0.86618016, 0.75026806,\n",
       "       0.64986731, 0.56290216, 0.42232752, 0.31685885])"
      ]
     },
     "execution_count": 3,
     "metadata": {},
     "output_type": "execute_result"
    }
   ],
   "source": [
    "\n",
    "stick = cylinder_models.C4CylinderGaussianPhaseApproximation(diffusion_perpendicular=1.7e-09)\n",
    "lambda_par = 1.7e-09\n",
    "diameter = 0.000004\n",
    "mu = (0,0)\n",
    "stick_model = MultiCompartmentModel(models=[stick])\n",
    "parameter_vector = stick_model.parameters_to_parameter_vector(\n",
    "    C4CylinderGaussianPhaseApproximation_1_lambda_par=lambda_par, C4CylinderGaussianPhaseApproximation_1_mu=mu, C4CylinderGaussianPhaseApproximation_1_diameter=diameter)\n",
    "E = stick_model.simulate_signal(acq_scheme, parameter_vector)\n",
    "E"
   ]
  },
  {
   "cell_type": "code",
   "execution_count": null,
   "metadata": {},
   "outputs": [],
   "source": []
  },
  {
   "cell_type": "code",
   "execution_count": 4,
   "metadata": {},
   "outputs": [
    {
     "name": "stdout",
     "output_type": "stream",
     "text": [
      "Acquisition scheme summary\n",
      "\n",
      "total number of measurements: 1\n",
      "number of b0 measurements: 0\n",
      "number of DWI shells: 1\n",
      "\n",
      "shell_index |# of DWIs |bvalue [s/mm^2] |gradient strength [mT/m] |delta [ms] |Delta[ms] |TE[ms]\n",
      "0           |1         |1000            |114                      |10.0       |14.0      |N/A  \n",
      "We highly recommend installing pathos to take advantage of multicore processing.\n",
      "0.7073926990825502\n",
      "We highly recommend installing pathos to take advantage of multicore processing.\n",
      "0.601122839505985\n",
      "We highly recommend installing pathos to take advantage of multicore processing.\n",
      "0.5099062449280763\n",
      "We highly recommend installing pathos to take advantage of multicore processing.\n",
      "0.43218927922672157\n",
      "We highly recommend installing pathos to take advantage of multicore processing.\n",
      "0.3661653989169666\n",
      "We highly recommend installing pathos to take advantage of multicore processing.\n",
      "0.31015192217890225\n"
     ]
    },
    {
     "name": "stderr",
     "output_type": "stream",
     "text": [
      "C:\\Users\\Mx\\anaconda3\\lib\\site-packages\\dmipy\\core\\acquisition_scheme.py:179: UserWarning: No b0 measurements were detected. Check if the b0_threshold option is high enough, or if there is a mistake in the acquisition design.\n",
      "  warn(msg)\n"
     ]
    },
    {
     "data": {
      "text/plain": [
       "[0.7073926990825502,\n",
       " 0.601122839505985,\n",
       " 0.5099062449280763,\n",
       " 0.43218927922672157,\n",
       " 0.3661653989169666,\n",
       " 0.31015192217890225]"
      ]
     },
     "execution_count": 4,
     "metadata": {},
     "output_type": "execute_result"
    }
   ],
   "source": [
    "# we can then load the parameters themselves and convert them to SI units:\n",
    "acquisition_path = modeling_framework.GRADIENT_TABLES_PATH\n",
    "#bvalues = np.loadtxt(join(acquisition_path, 'bvals_hcp_wu_minn.txt'))  # given in s/mm^2\n",
    "bvalues = np.array([1000])\n",
    "bvalues_SI = bvalues * 1e6  # now given in SI units as s/m^2\n",
    "#gradient_directions4= np.loadtxt(join(acquisition_path, 'bvecs_hcp_wu_minn.txt'))  # on the unit sphere\n",
    "gradient_directions = []\n",
    "for i in range(len(bvalues)):\n",
    "    gradient_directions.append(np.array([0.57735027, 0.57735027, 0.57735027]))\n",
    "    \n",
    "gradient_directions = np.array(gradient_directions)\n",
    "# The delta and Delta times we know from the HCP documentation in seconds\n",
    "delta = 0.010  \n",
    "Delta = 0.014 \n",
    "ES = []\n",
    "# The acquisition scheme we use in the toolbox is then created as follows:\n",
    "acq_scheme = acquisition_scheme_from_bvalues(bvalues_SI, gradient_directions, delta, Delta)\n",
    "acq_scheme.print_acquisition_info\n",
    "Ds = [1e-09,1.5e-09,2e-09,2.5e-09,3e-09,3.5e-09]\n",
    "for i in range(len(Ds)):\n",
    "    stick = cylinder_models.C4CylinderGaussianPhaseApproximation(diffusion_perpendicular=Ds[i])\n",
    "    lambda_par = Ds[i]\n",
    "    diameter = 0.000004\n",
    "    mu = (0,0)\n",
    "    stick_model = MultiCompartmentModel(models=[stick])\n",
    "    parameter_vector = stick_model.parameters_to_parameter_vector(\n",
    "        C4CylinderGaussianPhaseApproximation_1_lambda_par=lambda_par, C4CylinderGaussianPhaseApproximation_1_mu=mu, C4CylinderGaussianPhaseApproximation_1_diameter=diameter)\n",
    "    E = stick_model.simulate_signal(acq_scheme, parameter_vector)\n",
    "    ES.append(float(E))\n",
    "    print(E)\n",
    "ES"
   ]
  },
  {
   "cell_type": "code",
   "execution_count": 5,
   "metadata": {},
   "outputs": [
    {
     "name": "stdout",
     "output_type": "stream",
     "text": [
      "Acquisition scheme summary\n",
      "\n",
      "total number of measurements: 1\n",
      "number of b0 measurements: 0\n",
      "number of DWI shells: 1\n",
      "\n",
      "shell_index |# of DWIs |bvalue [s/mm^2] |gradient strength [mT/m] |delta [ms] |Delta[ms] |TE[ms]\n",
      "0           |1         |1000            |114                      |10.0       |14.0      |N/A  \n",
      "0.001\n",
      "We highly recommend installing pathos to take advantage of multicore processing.\n",
      "0.5673947368494777\n",
      "0.0015\n",
      "We highly recommend installing pathos to take advantage of multicore processing.\n",
      "0.5673183572369455\n",
      "0.002\n",
      "We highly recommend installing pathos to take advantage of multicore processing.\n",
      "0.5671147994004153\n",
      "0.0025\n",
      "We highly recommend installing pathos to take advantage of multicore processing.\n",
      "0.5666915171700547\n",
      "0.003\n",
      "We highly recommend installing pathos to take advantage of multicore processing.\n",
      "0.5659355436522632\n",
      "0.0035\n",
      "We highly recommend installing pathos to take advantage of multicore processing.\n",
      "0.5647183281234853\n",
      "0.004\n",
      "We highly recommend installing pathos to take advantage of multicore processing.\n",
      "0.5629021637081453\n",
      "0.0045000000000000005\n",
      "We highly recommend installing pathos to take advantage of multicore processing.\n",
      "0.560348902751626\n",
      "0.005\n",
      "We highly recommend installing pathos to take advantage of multicore processing.\n",
      "0.5569313623627301\n",
      "0.01\n",
      "We highly recommend installing pathos to take advantage of multicore processing.\n",
      "0.47347823746742546\n",
      "0.02\n",
      "We highly recommend installing pathos to take advantage of multicore processing.\n",
      "0.3169053269633585\n",
      "0.05\n",
      "We highly recommend installing pathos to take advantage of multicore processing.\n",
      "0.22507127602854954\n",
      "0.1\n",
      "We highly recommend installing pathos to take advantage of multicore processing.\n",
      "0.20212039908154814\n"
     ]
    },
    {
     "data": {
      "text/plain": [
       "[0.5673947368494777,\n",
       " 0.5673183572369455,\n",
       " 0.5671147994004153,\n",
       " 0.5666915171700547,\n",
       " 0.5659355436522632,\n",
       " 0.5647183281234853,\n",
       " 0.5629021637081453,\n",
       " 0.560348902751626,\n",
       " 0.5569313623627301,\n",
       " 0.47347823746742546,\n",
       " 0.3169053269633585,\n",
       " 0.22507127602854954,\n",
       " 0.20212039908154814]"
      ]
     },
     "execution_count": 5,
     "metadata": {},
     "output_type": "execute_result"
    }
   ],
   "source": [
    "# we can then load the parameters themselves and convert them to SI units:\n",
    "acquisition_path = modeling_framework.GRADIENT_TABLES_PATH\n",
    "#bvalues = np.loadtxt(join(acquisition_path, 'bvals_hcp_wu_minn.txt'))  # given in s/mm^2\n",
    "bvalues = np.array([1000])\n",
    "bvalues_SI = bvalues * 1e6  # now given in SI units as s/m^2\n",
    "#gradient_directions4= np.loadtxt(join(acquisition_path, 'bvecs_hcp_wu_minn.txt'))  # on the unit sphere\n",
    "gradient_directions = []\n",
    "for i in range(len(bvalues)):\n",
    "    gradient_directions.append(np.array([0.57735027, 0.57735027, 0.57735027]))\n",
    "    \n",
    "gradient_directions = np.array(gradient_directions)\n",
    "# The delta and Delta times we know from the HCP documentation in seconds\n",
    "delta = 0.010  \n",
    "Delta = 0.014 \n",
    "ES = []\n",
    "# The acquisition scheme we use in the toolbox is then created as follows:\n",
    "acq_scheme = acquisition_scheme_from_bvalues(bvalues_SI, gradient_directions, delta, Delta)\n",
    "acq_scheme.print_acquisition_info\n",
    "radii = [0.000001,0.0000015,0.000002,0.0000025,0.000003,0.0000035,0.000004,0.0000045,0.000005,0.00001,0.00002,0.00005,0.0001]\n",
    "for i in radii:\n",
    "    stick = cylinder_models.C4CylinderGaussianPhaseApproximation(diffusion_perpendicular=1.7e-09)\n",
    "    lambda_par = 1.7e-09\n",
    "    diameter = i\n",
    "    print(i*1000)\n",
    "    mu = (0,0)\n",
    "    stick_model = MultiCompartmentModel(models=[stick])\n",
    "    parameter_vector = stick_model.parameters_to_parameter_vector(\n",
    "        C4CylinderGaussianPhaseApproximation_1_lambda_par=lambda_par, C4CylinderGaussianPhaseApproximation_1_mu=mu, C4CylinderGaussianPhaseApproximation_1_diameter=diameter)\n",
    "    E = stick_model.simulate_signal(acq_scheme, parameter_vector)\n",
    "    ES.append(float(E))\n",
    "    print(E)\n",
    "ES"
   ]
  },
  {
   "cell_type": "code",
   "execution_count": 6,
   "metadata": {},
   "outputs": [
    {
     "data": {
      "text/plain": [
       "2e-05"
      ]
     },
     "execution_count": 6,
     "metadata": {},
     "output_type": "execute_result"
    }
   ],
   "source": [
    "0.02 / 1000"
   ]
  },
  {
   "cell_type": "code",
   "execution_count": 7,
   "metadata": {},
   "outputs": [
    {
     "name": "stdout",
     "output_type": "stream",
     "text": [
      "Acquisition scheme summary\n",
      "\n",
      "total number of measurements: 9\n",
      "number of b0 measurements: 0\n",
      "number of DWI shells: 9\n",
      "\n",
      "shell_index |# of DWIs |bvalue [s/mm^2] |gradient strength [mT/m] |delta [ms] |Delta[ms] |TE[ms]\n",
      "0           |1         |145             |100                      |4.0        |14.0      |N/A  \n",
      "1           |1         |259             |100                      |4.0        |24.0      |N/A  \n",
      "2           |1         |603             |100                      |4.0        |54.00000000000001|N/A  \n",
      "3           |1         |1175            |100                      |4.0        |104.00000000000001|N/A  \n",
      "4           |1         |2320            |100                      |4.0        |204.00000000000003|N/A  \n",
      "5           |1         |5755            |100                      |4.0        |504.0     |N/A  \n",
      "6           |1         |11480           |100                      |4.0        |1004.0    |N/A  \n",
      "7           |1         |22930           |100                      |4.0        |2004.0    |N/A  \n",
      "8           |1         |34380           |100                      |4.0        |3004.0    |N/A  \n",
      "We highly recommend installing pathos to take advantage of multicore processing.\n"
     ]
    },
    {
     "data": {
      "text/plain": [
       "array([0.96351661, 0.94123886, 0.89525193, 0.85745374, 0.83510995,\n",
       "       0.83019621, 0.83016571, 0.8301657 , 0.8301657 ])"
      ]
     },
     "execution_count": 7,
     "metadata": {},
     "output_type": "execute_result"
    }
   ],
   "source": [
    "deltas = np.array([0.01,0.02,0.05,0.1,0.2,0.5,1,2,3]) + 0.004\n",
    "grads = []\n",
    "strr = []\n",
    "dirr = []\n",
    "for i in range(len(deltas)):\n",
    "    grads.append(0.004)\n",
    "    strr.append(0.1)\n",
    "    dirr.append(np.array([0.57735027, 0.57735027, 0.57735027]))\n",
    "    \n",
    "grads = np.array(grads)\n",
    "strr = np.array(strr)\n",
    "dirr = np.array(dirr)\n",
    "    \n",
    "acq_scheme = acquisition_scheme_from_gradient_strengths(strr,dirr, grads, deltas)\n",
    "acq_scheme.print_acquisition_info\n",
    "\n",
    "\n",
    "stick = cylinder_models.C4CylinderGaussianPhaseApproximation(diffusion_perpendicular=0.5e-09)\n",
    "lambda_par = 0#1.7e-09\n",
    "diameter = 0.00002\n",
    "mu = (0,0)\n",
    "stick_model = MultiCompartmentModel(models=[stick])\n",
    "parameter_vector = stick_model.parameters_to_parameter_vector(\n",
    "    C4CylinderGaussianPhaseApproximation_1_lambda_par=lambda_par, C4CylinderGaussianPhaseApproximation_1_mu=mu, C4CylinderGaussianPhaseApproximation_1_diameter=diameter)\n",
    "E = stick_model.simulate_signal(acq_scheme, parameter_vector)\n",
    "E"
   ]
  },
  {
   "cell_type": "code",
   "execution_count": 10,
   "metadata": {},
   "outputs": [
    {
     "name": "stdout",
     "output_type": "stream",
     "text": [
      "Acquisition scheme summary\n",
      "\n",
      "total number of measurements: 9\n",
      "number of b0 measurements: 0\n",
      "number of DWI shells: 9\n",
      "\n",
      "shell_index |# of DWIs |bvalue [s/mm^2] |gradient strength [mT/m] |delta [ms] |Delta[ms] |TE[ms]\n",
      "0           |1         |145             |55                       |10.0       |10.0      |N/A  \n",
      "1           |1         |259             |73                       |10.0       |10.0      |N/A  \n",
      "2           |1         |603             |112                      |10.0       |10.0      |N/A  \n",
      "3           |1         |1175            |156                      |10.0       |10.0      |N/A  \n",
      "4           |1         |2321            |220                      |10.0       |10.0      |N/A  \n",
      "5           |1         |5756            |347                      |10.0       |10.0      |N/A  \n",
      "6           |1         |11482           |490                      |10.0       |10.0      |N/A  \n",
      "7           |1         |22935           |693                      |10.0       |10.0      |N/A  \n",
      "8           |1         |34387           |848                      |10.0       |10.0      |N/A  \n",
      "We highly recommend installing pathos to take advantage of multicore processing.\n"
     ]
    },
    {
     "data": {
      "text/plain": [
       "array([9.63330982e-01, 9.35363035e-01, 8.56237468e-01, 7.38954339e-01,\n",
       "       5.50382167e-01, 2.27407407e-01, 5.21240746e-02, 2.73845660e-03,\n",
       "       1.43871035e-04])"
      ]
     },
     "execution_count": 10,
     "metadata": {},
     "output_type": "execute_result"
    }
   ],
   "source": [
    "bs = np.array([145.2146014126501,\n",
    "259.73715773177474,\n",
    "603.3048266891487,\n",
    "1175.917608284772,\n",
    "2321.143171476019,\n",
    "5756.819861049759,\n",
    "11482.947677005992,\n",
    "22935.203308918455,\n",
    "34387.458940830926])\n",
    "\n",
    "bvalues_SI = bs * 1e6 \n",
    "deltas = []\n",
    "grads = []\n",
    "strr = []\n",
    "dirr = []\n",
    "for i in range(len(bs)):\n",
    "    deltas.append(0.01)\n",
    "    grads.append(0.01)\n",
    "    dirr.append(np.array([0.57735027, 0.57735027, 0.57735027]))\n",
    "    \n",
    "delta = np.array(grads)\n",
    "gradient_directions = np.array(dirr)\n",
    "Delta = np.array(deltas)\n",
    "    \n",
    "acq_scheme = acquisition_scheme_from_bvalues(bvalues_SI, gradient_directions, delta, Delta)\n",
    "acq_scheme.print_acquisition_info\n",
    "\n",
    "\n",
    "stick = cylinder_models.C4CylinderGaussianPhaseApproximation(diffusion_perpendicular=0.5e-09)\n",
    "lambda_par = 0#1.7e-09\n",
    "diameter = 0.00002\n",
    "mu = (0,0)\n",
    "stick_model = MultiCompartmentModel(models=[stick])\n",
    "parameter_vector = stick_model.parameters_to_parameter_vector(\n",
    "    C4CylinderGaussianPhaseApproximation_1_lambda_par=lambda_par, C4CylinderGaussianPhaseApproximation_1_mu=mu, C4CylinderGaussianPhaseApproximation_1_diameter=diameter)\n",
    "E = stick_model.simulate_signal(acq_scheme, parameter_vector)\n",
    "E"
   ]
  }
 ],
 "metadata": {
  "kernelspec": {
   "display_name": "Python 3",
   "language": "python",
   "name": "python3"
  },
  "language_info": {
   "codemirror_mode": {
    "name": "ipython",
    "version": 3
   },
   "file_extension": ".py",
   "mimetype": "text/x-python",
   "name": "python",
   "nbconvert_exporter": "python",
   "pygments_lexer": "ipython3",
   "version": "3.8.5"
  },
  "varInspector": {
   "cols": {
    "lenName": 16,
    "lenType": 16,
    "lenVar": 40
   },
   "kernels_config": {
    "python": {
     "delete_cmd_postfix": "",
     "delete_cmd_prefix": "del ",
     "library": "var_list.py",
     "varRefreshCmd": "print(var_dic_list())"
    },
    "r": {
     "delete_cmd_postfix": ") ",
     "delete_cmd_prefix": "rm(",
     "library": "var_list.r",
     "varRefreshCmd": "cat(var_dic_list()) "
    }
   },
   "types_to_exclude": [
    "module",
    "function",
    "builtin_function_or_method",
    "instance",
    "_Feature"
   ],
   "window_display": false
  }
 },
 "nbformat": 4,
 "nbformat_minor": 4
}
