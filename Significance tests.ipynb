{
 "cells": [
  {
   "cell_type": "code",
   "execution_count": 1,
   "id": "aa0ebf85",
   "metadata": {},
   "outputs": [
    {
     "data": {
      "text/plain": [
       "'\\nMax Bongers\\n30-6-2023\\nStatistical test of data for master thesis \"Optimizing b-value Composition For Maximizing ADC Contrast between Cancerous and Healthy Breast Tissue using a Diffusion Weighted MRI Simulator\"\\n'"
      ]
     },
     "execution_count": 1,
     "metadata": {},
     "output_type": "execute_result"
    }
   ],
   "source": [
    "\"\"\"\n",
    "Max Bongers\n",
    "30-6-2023\n",
    "Statistical test of data for master thesis \"Optimizing b-value Composition For Maximizing ADC Contrast between Cancerous and Healthy Breast Tissue using a Diffusion Weighted MRI Simulator\"\n",
    "\"\"\""
   ]
  },
  {
   "cell_type": "code",
   "execution_count": 2,
   "id": "09522437",
   "metadata": {},
   "outputs": [],
   "source": [
    "import pandas as pd\n",
    "import math\n",
    "import matplotlib.pyplot as plt\n",
    "from scipy.stats import norm, shapiro\n",
    "import scipy\n",
    "from scipy import stats\n",
    "import numpy as np\n",
    "import statsmodels.stats.multitest as multi"
   ]
  },
  {
   "cell_type": "code",
   "execution_count": 4,
   "id": "27599476",
   "metadata": {},
   "outputs": [
    {
     "name": "stderr",
     "output_type": "stream",
     "text": [
      "/home/rnga/mnbongers/tmp/ipykernel_292224/2080781342.py:12: FutureWarning: The frame.append method is deprecated and will be removed from pandas in a future version. Use pandas.concat instead.\n",
      "  merged = merged.append(tw)\n"
     ]
    },
    {
     "data": {
      "text/plain": [
       "Text(0.5, 0, 'b-value')"
      ]
     },
     "execution_count": 4,
     "metadata": {},
     "output_type": "execute_result"
    },
    {
     "data": {
      "image/png": "[encoded data removed]",
      "text/plain": [
       "<Figure size 432x288 with 1 Axes>"
      ]
     },
     "metadata": {
      "needs_background": "light"
     },
     "output_type": "display_data"
    }
   ],
   "source": [
    "df3 =pd.read_csv(\"data/data11-15.csv\")\n",
    "df2 =pd.read_csv(\"data/data8-10.csv\")\n",
    "df1 =pd.read_csv(\"data/data6-7.csv\")\n",
    "df =pd.read_csv(\"data/data1-5.csv\")\n",
    "df = df[df['duration']>-1].drop(['duration'],axis=1).drop(['avg'],axis=1)\n",
    "df2 = df2[df2['duration']>-1].drop(['duration'],axis=1).drop(['avg'],axis=1)\n",
    "df3 = df3[df3['duration']>-1].drop(['duration'],axis=1).drop(['avg'],axis=1)\n",
    "merged = pd.merge(df,df1,on=['b', 'grad_duration', 'delta', 'grad_str'],how='outer')\n",
    "merged = pd.merge(merged,df2,on=['b', 'grad_duration', 'delta', 'grad_str'],how='outer')\n",
    "merged = pd.merge(merged,df3,on=['b', 'grad_duration', 'delta', 'grad_str'],how='outer')\n",
    "tw = pd.read_csv(\"data/data25000.csv\")\n",
    "merged = merged.append(tw)\n",
    "merged1 = merged[['v1','v2','v3','v4','v5','v6','v7','v8','v9','v10','v11','v12','v13','v14','v15']]\n",
    "merged['avg'] = merged1.sum(axis=1)\n",
    "merged['avg'] = merged['avg'] / 15\n",
    "df = merged\n",
    "plt.scatter(list(df['b']),list(df['avg']), s = 10)\n",
    "plt.ylabel(\"Average contrast values\")\n",
    "plt.xlabel(\"b-value\")"
   ]
  },
  {
   "cell_type": "code",
   "execution_count": 28,
   "id": "f39c0e52",
   "metadata": {},
   "outputs": [
    {
     "name": "stdout",
     "output_type": "stream",
     "text": [
      "variances\n",
      "LeveneResult(statistic=6.465441266687281, pvalue=0.0127474882628669)\n",
      "LeveneResult(statistic=0.3408818563969437, pvalue=0.5601277151340676)\n",
      "LeveneResult(statistic=30.093200898304865, pvalue=1.5447458471870996e-07)\n",
      "LeveneResult(statistic=3.331652663024653, pvalue=0.07310892185383676)\n",
      "LeveneResult(statistic=17.894323849203136, pvalue=4.075071956477308e-05)\n",
      "LeveneResult(statistic=25.40206717317246, pvalue=2.4653447587522164e-06)\n",
      "LeveneResult(statistic=19.00278662735678, pvalue=2.591427413987096e-05)\n",
      "LeveneResult(statistic=15.950641042311398, pvalue=0.00018546576560534673)\n",
      "LeveneResult(statistic=14.69850745308383, pvalue=0.00016413699876869516)\n",
      "LeveneResult(statistic=1.0845209018907103, pvalue=0.2992305675840894)\n",
      "LeveneResult(statistic=2.0196026659900705, pvalue=0.1595375929533177)\n",
      "LeveneResult(statistic=0.0066793307927469694, pvalue=0.9350873379185732)\n",
      "LeveneResult(statistic=2.026421885692706, pvalue=0.15884431369647645)\n",
      "LeveneResult(statistic=2.0121611333549936, pvalue=0.1579520444712811)\n",
      "LeveneResult(statistic=0.0, pvalue=1.0)\n",
      "0\n",
      "bin  M-H-L\n",
      "Mean  0.0010967166666666665\n",
      "Variance  3.2628436972222217e-07\n",
      "MannwhitneyuResult(statistic=1196.0, pvalue=0.011430093035933266)\n",
      "\n",
      "1\n",
      "bin  H-L-H\n",
      "Mean  0.0011022666666666667\n",
      "Variance  9.311698074074075e-08\n",
      "MannwhitneyuResult(statistic=2512.0, pvalue=0.039840161390670835)\n",
      "\n",
      "2\n",
      "bin  H-L-L\n",
      "Mean  0.0011101377777777777\n",
      "Variance  1.0111571832098767e-08\n",
      "MannwhitneyuResult(statistic=2722.5, pvalue=0.0032315552367624223)\n",
      "\n",
      "3\n",
      "bin  M-L-M\n",
      "Mean  0.0011247666666666667\n",
      "Variance  1.962091222222222e-08\n",
      "MannwhitneyuResult(statistic=564.0, pvalue=0.0933225932657288)\n",
      "\n",
      "4\n",
      "bin  M-M-L\n",
      "Mean  0.0011363916666666668\n",
      "Variance  1.414032159722222e-08\n",
      "MannwhitneyuResult(statistic=2268.0, pvalue=0.028050816873029835)\n",
      "\n",
      "5\n",
      "bin  H-M-L\n",
      "Mean  0.0011618000000000002\n",
      "Variance  5.045059999999998e-09\n",
      "MannwhitneyuResult(statistic=1068.0, pvalue=0.1516536506902718)\n",
      "\n",
      "6\n",
      "bin  H-L-M\n",
      "Mean  0.0011785333333333332\n",
      "Variance  1.2855467936507936e-08\n",
      "MannwhitneyuResult(statistic=1745.5, pvalue=0.3682441373487406)\n",
      "\n",
      "7\n",
      "bin  M-M-M\n",
      "Mean  0.0011801000000000001\n",
      "Variance  3.11469e-09\n",
      "MannwhitneyuResult(statistic=508.5, pvalue=0.39114412632366957)\n",
      "\n",
      "8\n",
      "bin  L-M-L\n",
      "Mean  0.0011810974358974359\n",
      "Variance  1.950394435239974e-08\n",
      "MannwhitneyuResult(statistic=3210.5, pvalue=0.3905421663010378)\n",
      "\n",
      "9\n",
      "bin  L-M-M\n",
      "Mean  0.001193822222222222\n",
      "Variance  4.454626469135803e-08\n",
      "MannwhitneyuResult(statistic=2132.5, pvalue=0.6512234001035146)\n",
      "\n",
      "10\n",
      "bin  L-H-L\n",
      "Mean  0.0012034\n",
      "Variance  3.2266017777777775e-08\n",
      "MannwhitneyuResult(statistic=697.5, pvalue=0.8119289572021251)\n",
      "\n",
      "11\n",
      "bin  M-L-H\n",
      "Mean  0.0012093555555555554\n",
      "Variance  7.266062913580247e-08\n",
      "MannwhitneyuResult(statistic=719.0, pvalue=0.6380320062625408)\n",
      "\n",
      "12\n",
      "bin  L-L-H\n",
      "Mean  0.0012124222222222223\n",
      "Variance  1.5076939950617287e-07\n",
      "MannwhitneyuResult(statistic=640.0, pvalue=0.7090611955317209)\n",
      "\n",
      "13\n",
      "bin  L-M-H\n",
      "Mean  0.0012155555555555554\n",
      "Variance  1.6219371358024692e-07\n",
      "MannwhitneyuResult(statistic=2124.5, pvalue=0.6757521591744657)\n",
      "\n",
      "14\n",
      "bin  L-H-M\n",
      "Mean  0.0012279666666666668\n",
      "Variance  6.969889888888889e-08\n",
      "\n"
     ]
    }
   ],
   "source": [
    "# This cell loads and bins the data as described in the paper, currently set to test highest bin against\n",
    "# other bins\n",
    "\n",
    "df3 =pd.read_csv(\"data/data11-15.csv\").drop(['duration'],axis=1).drop(['avg'],axis=1)\n",
    "df2 =pd.read_csv(\"data/data8-10.csv\").drop(['duration'],axis=1).drop(['avg'],axis=1)\n",
    "df1 =pd.read_csv(\"data/data6-7.csv\").drop(['duration'],axis=1).drop(['avg'],axis=1)\n",
    "df =pd.read_csv(\"data/data1-5.csv\")\n",
    "df = df[df['duration']>-1].drop(['duration'],axis=1).drop(['avg'],axis=1)\n",
    "merged = pd.merge(df,df1,on=['b', 'grad_duration', 'delta', 'grad_str'],how='outer')\n",
    "merged = pd.merge(merged,df2,on=['b', 'grad_duration', 'delta', 'grad_str'],how='outer')\n",
    "merged = pd.merge(merged,df3,on=['b', 'grad_duration', 'delta', 'grad_str'],how='outer')\n",
    "XD = merged[['v1','v2','v3','v4','v5','v6','v7','v8','v9','v10','v11','v12','v13','v14','v15']]\n",
    "merged['avg'] = XD.sum(axis=1)\n",
    "merged['avg'] = merged['avg'] / 15\n",
    "df = merged\n",
    "df1 = df[df['b'] < 1500]\n",
    "df1 = df1[df1['b'] > 50]\n",
    "df = df1.sort_values(by=['avg'],ascending=False)\n",
    "\n",
    "\n",
    "gradient_strs = ['L','M','H']\n",
    "deltas = ['L','M','H']\n",
    "gradient_durations = ['L','M','H']\n",
    "grid1 = np.array(np.meshgrid(gradient_strs,gradient_durations,deltas)).T.reshape(-1,3)\n",
    "gradient_strs = [0.049,0.05,0.1]\n",
    "deltas = [20,100,500]\n",
    "gradient_durations = [50,100,400]\n",
    "grid = np.array(np.meshgrid(gradient_strs,gradient_durations,deltas)).T.reshape(-1,3)\n",
    "\n",
    "df['grad_str'] = df['grad_str'].apply(lambda x: min(gradient_strs, key = lambda y:abs(y-x)))\n",
    "df['delta'] = df['delta'].apply(lambda x: min(deltas, key = lambda y:abs(y-x)))\n",
    "df['grad_duration'] = df['grad_duration'].apply(lambda x: min(gradient_durations, key = lambda y:abs(y-x)))\n",
    "\n",
    "dfs = []\n",
    "count = 0\n",
    "temp1  = []\n",
    "ranges=[]\n",
    "bs = []\n",
    "for i in grid:\n",
    "    temp = df.loc[(df['grad_str'] == i[0]) & (df['grad_duration'] == i[1]) & (df['delta'] == i[2])]\n",
    "    if len(temp) > 1:\n",
    "        #print(grid1[count])\n",
    "        ranges.append(\"-\".join(grid1[count]))\n",
    "        dfs.append(temp)\n",
    "    temp1 = temp\n",
    "        \n",
    "    count+=1\n",
    "    \n",
    "signs = []\n",
    "# ingroup significance\n",
    "for i in dfs:\n",
    "    sign = i[['v1','v2','v3','v4','v5','v6','v7','v8','v9','v10','v11','v12','v13','v14','v15']].values\n",
    "    signs.append(sign.flatten())\n",
    "\n",
    "\n",
    "sorted_indices = sorted(range(len(signs)), key=lambda x: np.mean(signs[x]))\n",
    "ranges = [ranges[i] for i in sorted_indices]\n",
    "signs = [signs[i] for i in sorted_indices]\n",
    "dfs = [dfs[i] for i in sorted_indices]\n",
    "means = []\n",
    "high=[]\n",
    "for i in range(len(signs)):\n",
    "    high.append(signs[i].mean())\n",
    "highest = np.argmax(high)\n",
    "print(\"variances\")\n",
    "for i in range(len(signs)):\n",
    "    print(scipy.stats.levene(signs[highest],signs[i]))\n",
    "    \n",
    "ps= []\n",
    "for i in range(len(signs)):\n",
    "    print(i)\n",
    "    print(\"bin \",ranges[i])\n",
    "    print(\"Mean \", signs[i].mean())\n",
    "    print(\"Variance \", signs[i].var())\n",
    "    means.append(signs[i].mean())\n",
    "    if i != highest:\n",
    "        print(stats.mannwhitneyu(signs[highest],signs[i]))\n",
    "        ps.append(stats.mannwhitneyu(signs[highest],signs[i])[1])\n",
    "    print(\"\")"
   ]
  },
  {
   "cell_type": "code",
   "execution_count": 29,
   "id": "f2a3f43d",
   "metadata": {},
   "outputs": [
    {
     "data": {
      "text/plain": [
       "(array([False, False,  True, False, False, False, False, False, False,\n",
       "        False, False, False, False, False]),\n",
       " array([0.08001065, 0.13944056, 0.04524177, 0.26130326, 0.13090381,\n",
       "        0.35385852, 0.60844642, 0.60844642, 0.60844642, 0.76360436,\n",
       "        0.81192896, 0.76360436, 0.76360436, 0.76360436]),\n",
       " 0.0036571031913835705,\n",
       " 0.0035714285714285718)"
      ]
     },
     "execution_count": 29,
     "metadata": {},
     "output_type": "execute_result"
    }
   ],
   "source": [
    "# Corrected statistical tests on bins\n",
    "method = 'fdr_bh'  \n",
    "ps1 = list(multi.multipletests(ps, alpha=0.05, is_sorted=False, method=method)[1])\n",
    "multi.multipletests(ps, alpha=0.05, is_sorted=False, method=method)"
   ]
  },
  {
   "cell_type": "code",
   "execution_count": 30,
   "id": "1812118f",
   "metadata": {},
   "outputs": [
    {
     "data": {
      "image/png": "[encoded data removed]",
      "text/plain": [
       "<Figure size 720x432 with 1 Axes>"
      ]
     },
     "metadata": {
      "needs_background": "light"
     },
     "output_type": "display_data"
    }
   ],
   "source": [
    "data = []\n",
    "for i in signs:\n",
    "    data.append(i)\n",
    "\n",
    "def plot_boxplot(data, labels=None):\n",
    "    fig, ax =plt.subplots(figsize=(10, 6))\n",
    "    \n",
    "    ax.boxplot(data, whis=1.5, usermedians = means)\n",
    "\n",
    "    if labels is not None:\n",
    "        ax.set_xticklabels(labels)\n",
    "    plt.ylabel(\"ADC contrast\")\n",
    "    plt.xlabel(\"Bins\")\n",
    "    plt.show()\n",
    "\n",
    "labels = ranges\n",
    "\n",
    "plot_boxplot(data, labels)"
   ]
  }
 ],
 "metadata": {
  "kernelspec": {
   "display_name": "Python 3 (ipykernel)",
   "language": "python",
   "name": "python3"
  },
  "language_info": {
   "codemirror_mode": {
    "name": "ipython",
    "version": 3
   },
   "file_extension": ".py",
   "mimetype": "text/x-python",
   "name": "python",
   "nbconvert_exporter": "python",
   "pygments_lexer": "ipython3",
   "version": "3.9.12"
  }
 },
 "nbformat": 4,
 "nbformat_minor": 5
}
